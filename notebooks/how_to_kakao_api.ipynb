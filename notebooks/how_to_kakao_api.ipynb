{
 "cells": [
  {
   "cell_type": "code",
   "execution_count": 1,
   "metadata": {},
   "outputs": [],
   "source": [
    "import requests\n",
    "import json\n",
    "\n",
    "KAKAO_API_KEY = \"424cdf3a438dc70e245232542f7626c8\""
   ]
  },
  {
   "cell_type": "code",
   "execution_count": 42,
   "metadata": {},
   "outputs": [],
   "source": [
    "url = '''\n",
    "https://dapi.kakao.com/v2/local/search/keyword.json?query={0}&page=2\n",
    "'''.format('도서관')\n",
    "headers = {\n",
    "    'Authorization':'KakaoAK {0}'.format(KAKAO_API_KEY)\n",
    "}\n",
    "res = requests.get( url, headers=headers )"
   ]
  },
  {
   "cell_type": "code",
   "execution_count": 43,
   "metadata": {},
   "outputs": [
    {
     "name": "stdout",
     "output_type": "stream",
     "text": [
      "<Response [200]>\n"
     ]
    }
   ],
   "source": [
    "print(res)"
   ]
  },
  {
   "cell_type": "code",
   "execution_count": 44,
   "metadata": {},
   "outputs": [],
   "source": [
    "res = res.json()"
   ]
  },
  {
   "cell_type": "code",
   "execution_count": 45,
   "metadata": {},
   "outputs": [
    {
     "name": "stdout",
     "output_type": "stream",
     "text": [
      "{'documents': [{'address_name': '서울 동작구 노량진동 310-118', 'category_group_code': '', 'category_group_name': '', 'category_name': '교육,학문 > 학습시설 > 도서관', 'distance': '', 'id': '12449135', 'phone': '02-823-6417', 'place_name': '동작도서관', 'place_url': 'http://place.map.kakao.com/12449135', 'road_address_name': '서울 동작구 장승배기로 94', 'x': '126.940170800733', 'y': '37.506006057957'}, {'address_name': '서울 노원구 상계동 686', 'category_group_code': '', 'category_group_name': '', 'category_name': '교육,학문 > 학습시설 > 도서관', 'distance': '', 'id': '8251560', 'phone': '02-950-0050', 'place_name': '노원정보도서관', 'place_url': 'http://place.map.kakao.com/8251560', 'road_address_name': '서울 노원구 노원로34길 43', 'x': '127.065017166093', 'y': '37.6610714533611'}, {'address_name': '부산 해운대구 반송동 717-8', 'category_group_code': '', 'category_group_name': '', 'category_name': '교육,학문 > 학습시설 > 도서관', 'distance': '', 'id': '21309356', 'phone': '051-545-0102', 'place_name': '부산광역시립반송도서관', 'place_url': 'http://place.map.kakao.com/21309356', 'road_address_name': '부산 해운대구 아랫반송로 22', 'x': '129.148381827095', 'y': '35.225062046358'}, {'address_name': '광주 북구 우산동 213-4', 'category_group_code': '', 'category_group_name': '', 'category_name': '교육,학문 > 학습시설 > 도서관', 'distance': '', 'id': '18445575', 'phone': '062-613-7753', 'place_name': '광주광역시립 무등도서관', 'place_url': 'http://place.map.kakao.com/18445575', 'road_address_name': '광주 북구 면앙로 130', 'x': '126.925349934967', 'y': '35.1765366727578'}, {'address_name': '서울 은평구 불광동 산 59-32', 'category_group_code': '', 'category_group_name': '', 'category_name': '교육,학문 > 학습시설 > 도서관', 'distance': '', 'id': '8512798', 'phone': '02-385-1671', 'place_name': '은평구립도서관', 'place_url': 'http://place.map.kakao.com/8512798', 'road_address_name': '서울 은평구 통일로78가길 13-84', 'x': '126.928381841584', 'y': '37.619049316454'}, {'address_name': '서울 종로구 청운동 4-20', 'category_group_code': '', 'category_group_name': '', 'category_name': '교육,학문 > 학습시설 > 도서관', 'distance': '', 'id': '26186384', 'phone': '070-4680-4032', 'place_name': '청운문학도서관', 'place_url': 'http://place.map.kakao.com/26186384', 'road_address_name': '서울 종로구 자하문로36길 40', 'x': '126.96590530631', 'y': '37.5904038281362'}, {'address_name': '서울 은평구 구산동 17-37', 'category_group_code': '', 'category_group_name': '', 'category_name': '교육,학문 > 학습시설 > 도서관', 'distance': '', 'id': '27180986', 'phone': '02-357-0100', 'place_name': '구립구산동도서관마을', 'place_url': 'http://place.map.kakao.com/27180986', 'road_address_name': '서울 은평구 연서로13길 29-23', 'x': '126.9130834335', 'y': '37.6094957710892'}, {'address_name': '경기 성남시 분당구 판교동 553', 'category_group_code': '', 'category_group_name': '', 'category_name': '교육,학문 > 학습시설 > 도서관', 'distance': '', 'id': '11952443', 'phone': '031-729-4900', 'place_name': '판교도서관', 'place_url': 'http://place.map.kakao.com/11952443', 'road_address_name': '경기 성남시 분당구 운중로225번길 37', 'x': '127.0904526477012', 'y': '37.39220567831612'}, {'address_name': '서울 동대문구 답십리동 474-5', 'category_group_code': '', 'category_group_name': '', 'category_name': '교육,학문 > 학습시설 > 도서관', 'distance': '', 'id': '24020785', 'phone': '02-982-1959', 'place_name': '동대문구답십리도서관', 'place_url': 'http://place.map.kakao.com/24020785', 'road_address_name': '서울 동대문구 서울시립대로4길 75', 'x': '127.050292608064', 'y': '37.5732251013776'}, {'address_name': '서울 구로구 구로동 106-1', 'category_group_code': '', 'category_group_name': '', 'category_name': '교육,학문 > 학습시설 > 도서관', 'distance': '', 'id': '8189288', 'phone': '02-6958-2800', 'place_name': '구로도서관', 'place_url': 'http://place.map.kakao.com/8189288', 'road_address_name': '서울 구로구 공원로 15', 'x': '126.891693933286', 'y': '37.4985400658959'}, {'address_name': '서울 용산구 후암동 30-90', 'category_group_code': '', 'category_group_name': '', 'category_name': '교육,학문 > 학습시설 > 도서관', 'distance': '', 'id': '8472480', 'phone': '', 'place_name': '용산도서관', 'place_url': 'http://place.map.kakao.com/8472480', 'road_address_name': '서울 용산구 두텁바위로 160', 'x': '126.980145783584', 'y': '37.5519886462656'}, {'address_name': '서울 서초구 반포동 32-13', 'category_group_code': '', 'category_group_name': '', 'category_name': '교육,학문 > 학습시설 > 도서관', 'distance': '', 'id': '19291589', 'phone': '02-520-8700', 'place_name': '서초구립반포도서관', 'place_url': 'http://place.map.kakao.com/19291589', 'road_address_name': '서울 서초구 고무래로 34', 'x': '127.012544317106', 'y': '37.5024886017556'}, {'address_name': '서울 강서구 등촌동 520-6', 'category_group_code': '', 'category_group_name': '', 'category_name': '교육,학문 > 학습시설 > 도서관', 'distance': '', 'id': '10122865', 'phone': '02-3219-7000', 'place_name': '강서도서관', 'place_url': 'http://place.map.kakao.com/10122865', 'road_address_name': '서울 강서구 등촌로51나길 29', 'x': '126.859919301113', 'y': '37.5478058805327'}, {'address_name': '부산 연제구 연산동 252-5', 'category_group_code': '', 'category_group_name': '', 'category_name': '교육,학문 > 학습시설 > 도서관', 'distance': '', 'id': '19390016', 'phone': '051-792-5400', 'place_name': '부산광역시립 연산도서관', 'place_url': 'http://place.map.kakao.com/19390016', 'road_address_name': '부산 연제구 고분로191번길 16', 'x': '129.104042685888', 'y': '35.1859780136875'}, {'address_name': '서울 강남구 청담동 87-9', 'category_group_code': '', 'category_group_name': '', 'category_name': '교육,학문 > 학습시설 > 도서관 > 작은도서관', 'distance': '', 'id': '24635663', 'phone': '02-3485-5509', 'place_name': '현대카드 트래블 라이브러리', 'place_url': 'http://place.map.kakao.com/24635663', 'road_address_name': '서울 강남구 선릉로152길 18', 'x': '127.040956127818', 'y': '37.524091848731'}], 'meta': {'is_end': False, 'pageable_count': 45, 'same_name': {'keyword': '도서관', 'region': [], 'selected_region': ''}, 'total_count': 10837}}\n"
     ]
    }
   ],
   "source": [
    "print( res )"
   ]
  },
  {
   "cell_type": "code",
   "execution_count": 46,
   "metadata": {},
   "outputs": [
    {
     "name": "stdout",
     "output_type": "stream",
     "text": [
      "dict_keys(['address_name', 'category_group_code', 'category_group_name', 'category_name', 'distance', 'id', 'phone', 'place_name', 'place_url', 'road_address_name', 'x', 'y'])\n"
     ]
    }
   ],
   "source": [
    "print( res['documents'][0].keys() )"
   ]
  },
  {
   "cell_type": "code",
   "execution_count": 47,
   "metadata": {},
   "outputs": [
    {
     "name": "stdout",
     "output_type": "stream",
     "text": [
      "서울 동작구 노량진동 310-118 37.506006057957 126.940170800733 동작도서관\n"
     ]
    }
   ],
   "source": [
    "print( res['documents'][0]['address_name'],\n",
    "     res['documents'][0]['y'],\n",
    "     res['documents'][0]['x'],\n",
    "     res['documents'][0]['place_name'],)"
   ]
  },
  {
   "cell_type": "code",
   "execution_count": 50,
   "metadata": {},
   "outputs": [
    {
     "name": "stdout",
     "output_type": "stream",
     "text": [
      "동작도서관\n",
      "노원정보도서관\n",
      "부산광역시립반송도서관\n",
      "광주광역시립 무등도서관\n",
      "은평구립도서관\n",
      "청운문학도서관\n",
      "구립구산동도서관마을\n",
      "판교도서관\n",
      "동대문구답십리도서관\n",
      "구로도서관\n",
      "용산도서관\n",
      "서초구립반포도서관\n",
      "강서도서관\n",
      "부산광역시립 연산도서관\n",
      "현대카드 트래블 라이브러리\n"
     ]
    }
   ],
   "source": [
    "for i in range(0,15):\n",
    "    print( \n",
    "         res['documents'][i]['place_name'],)"
   ]
  },
  {
   "cell_type": "code",
   "execution_count": null,
   "metadata": {},
   "outputs": [],
   "source": []
  },
  {
   "cell_type": "markdown",
   "metadata": {},
   "source": [
    "# 총 코드"
   ]
  },
  {
   "cell_type": "code",
   "execution_count": 62,
   "metadata": {},
   "outputs": [],
   "source": [
    "import requests\n",
    "import json\n",
    "\n",
    "KAKAO_API_KEY = \"424cdf3a438dc70e245232542f7626c8\""
   ]
  },
  {
   "cell_type": "code",
   "execution_count": 65,
   "metadata": {},
   "outputs": [
    {
     "name": "stdout",
     "output_type": "stream",
     "text": [
      "<Response [200]>\n",
      "서울 서초구 반포동 산 60-1 37.4976237970439 127.002985471402 국립중앙도서관\n",
      "세종특별자치시 어진동 산 114 36.4986382985855 127.268124326723 국립세종도서관\n",
      "서울 강남구 역삼동 635-1 37.5009321996311 127.029702227067 국립어린이청소년도서관\n",
      "서울 서초구 반포동 산 57-1 37.4982869196633 127.003632355658 국립중앙도서관 디지털도서관\n",
      "서울 서초구 반포동 산 94-1 37.4965390010317 127.002270734795 국립중앙도서관 주차장\n",
      "세종특별자치시 어진동 637 36.49858663203921 127.2682580876054 국립세종도서관 주차장\n",
      "서울 용산구 용산동6가 11-426 37.5241151021239 126.978994762187 국립중앙박물관 도서관\n",
      "서울 서초구 반포동 산 60-1 37.4972597933251 127.002867848002 국립장애인도서관\n",
      "부산 영도구 동삼동 1156 35.0786903530229 129.080205005884 국립해양박물관 해양도서관\n",
      "서울 서초구 반포동 산 60-1 37.4976346094639 127.002971901506 국립중앙도서관 사서연수관\n",
      "서울 서초구 반포동 산 94-1 37.4967408169582 127.002723079732 국립중앙도서관 자료보존관\n",
      "강원 강릉시 지변동 123 37.769707437815164 128.87033617286752 국립강릉원주대학교 도서관\n",
      "서울 서초구 반포동 산 94-1 37.4967588354002 127.002795454616 국립중앙도서관 책사랑어린이집\n",
      "서울 서초구 반포동 산 60-1 37.4971228138875 127.003804188903 국립중앙도서관 국제회의실\n",
      "서울 서초구 반포동 산 57-1 37.4983517910045 127.003668546684 국립중앙도서관 기록매체박물관\n",
      "<Response [200]>\n",
      "경북 안동시 송천동 388 36.5404640074761 128.795647260997 국립안동대학교 중앙도서관\n",
      "서울 서초구 반포동 산 60-1 37.4973210557065 127.003107591777 국립중앙도서관 북카페\n",
      "서울 서초구 반포동 산 60-1 37.4976201927889 127.002994518141 국립중앙도서관 자료관리부\n",
      "서울 서초구 반포동 산 94-1 37.496762439747 127.002781884581 국립중앙도서관 개방화장실\n",
      "서울 송파구 가락동 58 37.4964600468841 127.123506105622 국립경찰병원 의학도서관\n",
      "서울 용산구 용산동6가 168-6 37.52402611480533 126.9802222028894 국립중앙박물관\n",
      "대구 수성구 황금동 70 35.8457467724384 128.637995742973 국립대구박물관도서실\n",
      "서울 중구 장충동2가 산 14-67 37.5528120250099 126.999579009929 국립극장 공연자료실\n",
      "강원 춘천시 석사동 95-3 37.8640565829952 127.753856606125 국립춘천박물관도서실\n",
      "강원 원주시 반곡동 2049-4 37.323818891484 127.976704975262 국립공원관리공단 자료실\n",
      "세종특별자치시 어진동 637 36.4985643015491 127.268169834093 한국전문도서관협의회\n",
      "서울 서초구 반포동 산 60-1 37.4975616281653 127.002962851738 도서관정보정책위원회\n",
      "서울 서초구 반포동 산 60-1 37.49735799058466 127.00334168057677 CU 국립중앙도서관점\n",
      "세종특별자치시 어진동 637 36.4986382885521 127.268128791325 삼주외식산업 호수마루 국립세종도서관점\n",
      "서울 서초구 반포동 산 57-1 37.4982652946724 127.003659495492 그라찌에 국립중앙도서관 디지털도서관점\n",
      "<Response [200]>\n",
      "서울 서초구 반포동 산 60-1 37.4970795792725 127.00335184584 책사랑\n",
      "부산 영도구 동삼동 1156 35.0785634922505 129.080245633861 보드랑 3호점\n"
     ]
    },
    {
     "ename": "IndexError",
     "evalue": "list index out of range",
     "output_type": "error",
     "traceback": [
      "\u001b[0;31m\u001b[0m",
      "\u001b[0;31mIndexError\u001b[0mTraceback (most recent call last)",
      "\u001b[0;32m<ipython-input-65-9e151e153d2d>\u001b[0m in \u001b[0;36m<module>\u001b[0;34m\u001b[0m\n\u001b[1;32m     14\u001b[0m     \u001b[0;32mfor\u001b[0m \u001b[0mj\u001b[0m \u001b[0;32min\u001b[0m \u001b[0mrange\u001b[0m\u001b[0;34m(\u001b[0m\u001b[0;36m0\u001b[0m\u001b[0;34m,\u001b[0m\u001b[0;36m15\u001b[0m\u001b[0;34m)\u001b[0m\u001b[0;34m:\u001b[0m\u001b[0;34m\u001b[0m\u001b[0;34m\u001b[0m\u001b[0m\n\u001b[1;32m     15\u001b[0m         \u001b[0mcnt\u001b[0m \u001b[0;34m+=\u001b[0m \u001b[0;36m1\u001b[0m\u001b[0;34m\u001b[0m\u001b[0;34m\u001b[0m\u001b[0m\n\u001b[0;32m---> 16\u001b[0;31m         print( res['documents'][j]['address_name'],\n\u001b[0m\u001b[1;32m     17\u001b[0m              \u001b[0mres\u001b[0m\u001b[0;34m[\u001b[0m\u001b[0;34m'documents'\u001b[0m\u001b[0;34m]\u001b[0m\u001b[0;34m[\u001b[0m\u001b[0mj\u001b[0m\u001b[0;34m]\u001b[0m\u001b[0;34m[\u001b[0m\u001b[0;34m'y'\u001b[0m\u001b[0;34m]\u001b[0m\u001b[0;34m,\u001b[0m\u001b[0;34m\u001b[0m\u001b[0;34m\u001b[0m\u001b[0m\n\u001b[1;32m     18\u001b[0m              \u001b[0mres\u001b[0m\u001b[0;34m[\u001b[0m\u001b[0;34m'documents'\u001b[0m\u001b[0;34m]\u001b[0m\u001b[0;34m[\u001b[0m\u001b[0mj\u001b[0m\u001b[0;34m]\u001b[0m\u001b[0;34m[\u001b[0m\u001b[0;34m'x'\u001b[0m\u001b[0;34m]\u001b[0m\u001b[0;34m,\u001b[0m\u001b[0;34m\u001b[0m\u001b[0;34m\u001b[0m\u001b[0m\n",
      "\u001b[0;31mIndexError\u001b[0m: list index out of range"
     ]
    }
   ],
   "source": [
    "cnt = 0 \n",
    "for i in range(1,45):\n",
    "    url = '''\n",
    "    https://dapi.kakao.com/v2/local/search/keyword.json?query={0}&page={1}\n",
    "    '''.format('국립 도서관', str(i))\n",
    "    headers = {\n",
    "        'Authorization':'KakaoAK {0}'.format(KAKAO_API_KEY)\n",
    "    }\n",
    "    res = requests.get( url, headers=headers )\n",
    "#     print(res)\n",
    "    res = res.json()\n",
    "    \n",
    "    \n",
    "    for j in range(0,15):\n",
    "        cnt += 1\n",
    "        print( res['documents'][j]['address_name'],\n",
    "             res['documents'][j]['y'],\n",
    "             res['documents'][j]['x'],\n",
    "             res['documents'][j]['place_name'],)\n",
    "print(cnt)"
   ]
  },
  {
   "cell_type": "code",
   "execution_count": 42,
   "metadata": {},
   "outputs": [],
   "source": [
    "url = '''\n",
    "https://dapi.kakao.com/v2/local/search/keyword.json?query={0}&page=2\n",
    "'''.format('도서관')\n",
    "headers = {\n",
    "    'Authorization':'KakaoAK {0}'.format(KAKAO_API_KEY)\n",
    "}\n",
    "res = requests.get( url, headers=headers )"
   ]
  },
  {
   "cell_type": "code",
   "execution_count": 44,
   "metadata": {},
   "outputs": [],
   "source": [
    "res = res.json()"
   ]
  },
  {
   "cell_type": "code",
   "execution_count": 50,
   "metadata": {},
   "outputs": [
    {
     "name": "stdout",
     "output_type": "stream",
     "text": [
      "동작도서관\n",
      "노원정보도서관\n",
      "부산광역시립반송도서관\n",
      "광주광역시립 무등도서관\n",
      "은평구립도서관\n",
      "청운문학도서관\n",
      "구립구산동도서관마을\n",
      "판교도서관\n",
      "동대문구답십리도서관\n",
      "구로도서관\n",
      "용산도서관\n",
      "서초구립반포도서관\n",
      "강서도서관\n",
      "부산광역시립 연산도서관\n",
      "현대카드 트래블 라이브러리\n"
     ]
    }
   ],
   "source": [
    "for i in range(0,15):\n",
    "    print( \n",
    "         res['documents'][i]['place_name'],)"
   ]
  },
  {
   "cell_type": "code",
   "execution_count": null,
   "metadata": {},
   "outputs": [],
   "source": []
  },
  {
   "cell_type": "code",
   "execution_count": null,
   "metadata": {},
   "outputs": [],
   "source": []
  },
  {
   "cell_type": "code",
   "execution_count": null,
   "metadata": {},
   "outputs": [],
   "source": []
  },
  {
   "cell_type": "code",
   "execution_count": null,
   "metadata": {},
   "outputs": [],
   "source": []
  },
  {
   "cell_type": "code",
   "execution_count": null,
   "metadata": {},
   "outputs": [],
   "source": []
  }
 ],
 "metadata": {
  "kernelspec": {
   "display_name": "Python 3",
   "language": "python",
   "name": "python3"
  },
  "language_info": {
   "codemirror_mode": {
    "name": "ipython",
    "version": 3
   },
   "file_extension": ".py",
   "mimetype": "text/x-python",
   "name": "python",
   "nbconvert_exporter": "python",
   "pygments_lexer": "ipython3",
   "version": "3.7.4"
  }
 },
 "nbformat": 4,
 "nbformat_minor": 4
}
