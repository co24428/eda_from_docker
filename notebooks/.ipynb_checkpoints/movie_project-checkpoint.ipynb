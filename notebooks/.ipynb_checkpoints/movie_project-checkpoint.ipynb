{
 "cells": [
  {
   "cell_type": "code",
   "execution_count": 1,
   "metadata": {},
   "outputs": [],
   "source": [
    "import  urllib.request as ul\n",
    "import json,datetime, time\n",
    "import pandas as pd"
   ]
  },
  {
   "cell_type": "code",
   "execution_count": 2,
   "metadata": {},
   "outputs": [
    {
     "name": "stdout",
     "output_type": "stream",
     "text": [
      "20200131\n"
     ]
    }
   ],
   "source": [
    "movieDate=time.strftime(\"%Y%m%d\", time.localtime(time.time()))\n",
    "print(movieDate)\n",
    "movieDate = 20200130"
   ]
  },
  {
   "cell_type": "code",
   "execution_count": 17,
   "metadata": {},
   "outputs": [
    {
     "name": "stdout",
     "output_type": "stream",
     "text": [
      "<urllib.request.Request object at 0x7f2f24cbbbd0>\n",
      "<http.client.HTTPResponse object at 0x7f2f24cc1ed0>\n",
      "200\n"
     ]
    }
   ],
   "source": [
    "url = f\"http://www.kobis.or.kr/kobisopenapi/webservice/rest/boxoffice/searchDailyBoxOfficeList.json?key=66e652e1d2656b42f10d93c91e0295e4&targetDt={movieDate}\"\n",
    "\n",
    "request = ul.Request(url)\n",
    "print(request)\n",
    "response =ul.urlopen(request)\n",
    "print(response)\n",
    "rescode = response.getcode()\n",
    "print(rescode)\n",
    "if(rescode == 200):\n",
    "    responseDate = response.read()"
   ]
  },
  {
   "cell_type": "code",
   "execution_count": 8,
   "metadata": {},
   "outputs": [
    {
     "name": "stdout",
     "output_type": "stream",
     "text": [
      "{'boxOfficeResult': {'boxofficeType': '일별 박스오피스', 'showRange': '20200130~20200130', 'dailyBoxOfficeList': [{'rnum': '1', 'rank': '1', 'rankInten': '0', 'rankOldAndNew': 'OLD', 'movieCd': '20180939', 'movieNm': '남산의 부장들', 'openDt': '2020-01-22', 'salesAmt': '945095180', 'salesShare': '44.0', 'salesInten': '-355976620', 'salesChange': '-27.4', 'salesAcc': '32547144270', 'audiCnt': '118080', 'audiInten': '-93877', 'audiChange': '-44.3', 'audiAcc': '3743582', 'scrnCnt': '1383', 'showCnt': '7262'}, {'rnum': '2', 'rank': '2', 'rankInten': '0', 'rankOldAndNew': 'OLD', 'movieCd': '20192101', 'movieNm': '히트맨', 'openDt': '2020-01-22', 'salesAmt': '602166980', 'salesShare': '28.1', 'salesInten': '-228841510', 'salesChange': '-27.5', 'salesAcc': '15390499240', 'audiCnt': '74508', 'audiInten': '-62668', 'audiChange': '-45.7', 'audiAcc': '1789019', 'scrnCnt': '1027', 'showCnt': '4745'}, {'rnum': '3', 'rank': '3', 'rankInten': '0', 'rankOldAndNew': 'OLD', 'movieCd': '20188421', 'movieNm': '미스터 주: 사라진 VIP', 'openDt': '2020-01-22', 'salesAmt': '92604980', 'salesShare': '4.3', 'salesInten': '-56547680', 'salesChange': '-37.9', 'salesAcc': '4580917060', 'audiCnt': '12298', 'audiInten': '-12283', 'audiChange': '-50', 'audiAcc': '543714', 'scrnCnt': '596', 'showCnt': '1570'}, {'rnum': '4', 'rank': '4', 'rankInten': '0', 'rankOldAndNew': 'OLD', 'movieCd': '20192300', 'movieNm': '스파이 지니어스 ', 'openDt': '2020-01-22', 'salesAmt': '88064900', 'salesShare': '4.1', 'salesInten': '-37017120', 'salesChange': '-29.6', 'salesAcc': '3075484300', 'audiCnt': '11730', 'audiInten': '-8596', 'audiChange': '-42.3', 'audiAcc': '374662', 'scrnCnt': '574', 'showCnt': '1169'}, {'rnum': '5', 'rank': '5', 'rankInten': '0', 'rankOldAndNew': 'OLD', 'movieCd': '20100312', 'movieNm': '인셉션', 'openDt': '2010-07-21', 'salesAmt': '67568700', 'salesShare': '3.1', 'salesInten': '-21178300', 'salesChange': '-23.9', 'salesAcc': '43645889200', 'audiCnt': '8346', 'audiInten': '-6634', 'audiChange': '-44.3', 'audiAcc': '5859100', 'scrnCnt': '204', 'showCnt': '605'}, {'rnum': '6', 'rank': '6', 'rankInten': '0', 'rankOldAndNew': 'OLD', 'movieCd': '20183002', 'movieNm': '해치지않아', 'openDt': '2020-01-15', 'salesAmt': '47241640', 'salesShare': '2.2', 'salesInten': '-34285520', 'salesChange': '-42.1', 'salesAcc': '10043037830', 'audiCnt': '6106', 'audiInten': '-7222', 'audiChange': '-54.2', 'audiAcc': '1195437', 'scrnCnt': '471', 'showCnt': '895'}, {'rnum': '7', 'rank': '7', 'rankInten': '0', 'rankOldAndNew': 'OLD', 'movieCd': '20198676', 'movieNm': '타오르는 여인의 초상', 'openDt': '2020-01-16', 'salesAmt': '35329360', 'salesShare': '1.6', 'salesInten': '-7492020', 'salesChange': '-17.5', 'salesAcc': '791441040', 'audiCnt': '4480', 'audiInten': '-2579', 'audiChange': '-36.5', 'audiAcc': '95398', 'scrnCnt': '142', 'showCnt': '275'}, {'rnum': '8', 'rank': '8', 'rankInten': '13', 'rankOldAndNew': 'OLD', 'movieCd': '20193321', 'movieNm': '정직한 후보', 'openDt': '2020-02-12', 'salesAmt': '29833000', 'salesShare': '1.4', 'salesInten': '25136000', 'salesChange': '535.2', 'salesAcc': '72029000', 'audiCnt': '3943', 'audiInten': '3420', 'audiChange': '653.9', 'audiAcc': '10143', 'scrnCnt': '21', 'showCnt': '22'}, {'rnum': '9', 'rank': '9', 'rankInten': '0', 'rankOldAndNew': 'OLD', 'movieCd': '20196670', 'movieNm': '나쁜 녀석들: 포에버', 'openDt': '2020-01-15', 'salesAmt': '18913800', 'salesShare': '0.9', 'salesInten': '-8837500', 'salesChange': '-31.8', 'salesAcc': '4763880300', 'audiCnt': '2765', 'audiInten': '-1533', 'audiChange': '-35.7', 'audiAcc': '531929', 'scrnCnt': '204', 'showCnt': '297'}, {'rnum': '10', 'rank': '10', 'rankInten': '0', 'rankOldAndNew': 'NEW', 'movieCd': '20193836', 'movieNm': '핑크퐁 시네마 콘서트 : 우주대탐험', 'openDt': '2020-01-30', 'salesAmt': '20010500', 'salesShare': '0.9', 'salesInten': '20010500', 'salesChange': '100', 'salesAcc': '36416500', 'audiCnt': '2693', 'audiInten': '2693', 'audiChange': '100', 'audiAcc': '5235', 'scrnCnt': '176', 'showCnt': '341'}]}}\n",
      "{'boxofficeType': '일별 박스오피스', 'showRange': '20200130~20200130', 'dailyBoxOfficeList': [{'rnum': '1', 'rank': '1', 'rankInten': '0', 'rankOldAndNew': 'OLD', 'movieCd': '20180939', 'movieNm': '남산의 부장들', 'openDt': '2020-01-22', 'salesAmt': '945095180', 'salesShare': '44.0', 'salesInten': '-355976620', 'salesChange': '-27.4', 'salesAcc': '32547144270', 'audiCnt': '118080', 'audiInten': '-93877', 'audiChange': '-44.3', 'audiAcc': '3743582', 'scrnCnt': '1383', 'showCnt': '7262'}, {'rnum': '2', 'rank': '2', 'rankInten': '0', 'rankOldAndNew': 'OLD', 'movieCd': '20192101', 'movieNm': '히트맨', 'openDt': '2020-01-22', 'salesAmt': '602166980', 'salesShare': '28.1', 'salesInten': '-228841510', 'salesChange': '-27.5', 'salesAcc': '15390499240', 'audiCnt': '74508', 'audiInten': '-62668', 'audiChange': '-45.7', 'audiAcc': '1789019', 'scrnCnt': '1027', 'showCnt': '4745'}, {'rnum': '3', 'rank': '3', 'rankInten': '0', 'rankOldAndNew': 'OLD', 'movieCd': '20188421', 'movieNm': '미스터 주: 사라진 VIP', 'openDt': '2020-01-22', 'salesAmt': '92604980', 'salesShare': '4.3', 'salesInten': '-56547680', 'salesChange': '-37.9', 'salesAcc': '4580917060', 'audiCnt': '12298', 'audiInten': '-12283', 'audiChange': '-50', 'audiAcc': '543714', 'scrnCnt': '596', 'showCnt': '1570'}, {'rnum': '4', 'rank': '4', 'rankInten': '0', 'rankOldAndNew': 'OLD', 'movieCd': '20192300', 'movieNm': '스파이 지니어스 ', 'openDt': '2020-01-22', 'salesAmt': '88064900', 'salesShare': '4.1', 'salesInten': '-37017120', 'salesChange': '-29.6', 'salesAcc': '3075484300', 'audiCnt': '11730', 'audiInten': '-8596', 'audiChange': '-42.3', 'audiAcc': '374662', 'scrnCnt': '574', 'showCnt': '1169'}, {'rnum': '5', 'rank': '5', 'rankInten': '0', 'rankOldAndNew': 'OLD', 'movieCd': '20100312', 'movieNm': '인셉션', 'openDt': '2010-07-21', 'salesAmt': '67568700', 'salesShare': '3.1', 'salesInten': '-21178300', 'salesChange': '-23.9', 'salesAcc': '43645889200', 'audiCnt': '8346', 'audiInten': '-6634', 'audiChange': '-44.3', 'audiAcc': '5859100', 'scrnCnt': '204', 'showCnt': '605'}, {'rnum': '6', 'rank': '6', 'rankInten': '0', 'rankOldAndNew': 'OLD', 'movieCd': '20183002', 'movieNm': '해치지않아', 'openDt': '2020-01-15', 'salesAmt': '47241640', 'salesShare': '2.2', 'salesInten': '-34285520', 'salesChange': '-42.1', 'salesAcc': '10043037830', 'audiCnt': '6106', 'audiInten': '-7222', 'audiChange': '-54.2', 'audiAcc': '1195437', 'scrnCnt': '471', 'showCnt': '895'}, {'rnum': '7', 'rank': '7', 'rankInten': '0', 'rankOldAndNew': 'OLD', 'movieCd': '20198676', 'movieNm': '타오르는 여인의 초상', 'openDt': '2020-01-16', 'salesAmt': '35329360', 'salesShare': '1.6', 'salesInten': '-7492020', 'salesChange': '-17.5', 'salesAcc': '791441040', 'audiCnt': '4480', 'audiInten': '-2579', 'audiChange': '-36.5', 'audiAcc': '95398', 'scrnCnt': '142', 'showCnt': '275'}, {'rnum': '8', 'rank': '8', 'rankInten': '13', 'rankOldAndNew': 'OLD', 'movieCd': '20193321', 'movieNm': '정직한 후보', 'openDt': '2020-02-12', 'salesAmt': '29833000', 'salesShare': '1.4', 'salesInten': '25136000', 'salesChange': '535.2', 'salesAcc': '72029000', 'audiCnt': '3943', 'audiInten': '3420', 'audiChange': '653.9', 'audiAcc': '10143', 'scrnCnt': '21', 'showCnt': '22'}, {'rnum': '9', 'rank': '9', 'rankInten': '0', 'rankOldAndNew': 'OLD', 'movieCd': '20196670', 'movieNm': '나쁜 녀석들: 포에버', 'openDt': '2020-01-15', 'salesAmt': '18913800', 'salesShare': '0.9', 'salesInten': '-8837500', 'salesChange': '-31.8', 'salesAcc': '4763880300', 'audiCnt': '2765', 'audiInten': '-1533', 'audiChange': '-35.7', 'audiAcc': '531929', 'scrnCnt': '204', 'showCnt': '297'}, {'rnum': '10', 'rank': '10', 'rankInten': '0', 'rankOldAndNew': 'NEW', 'movieCd': '20193836', 'movieNm': '핑크퐁 시네마 콘서트 : 우주대탐험', 'openDt': '2020-01-30', 'salesAmt': '20010500', 'salesShare': '0.9', 'salesInten': '20010500', 'salesChange': '100', 'salesAcc': '36416500', 'audiCnt': '2693', 'audiInten': '2693', 'audiChange': '100', 'audiAcc': '5235', 'scrnCnt': '176', 'showCnt': '341'}]}\n"
     ]
    }
   ],
   "source": [
    "result = json.loads(responseDate)\n",
    "print(result)\n",
    "pre_result = result[\"boxOfficeResult\"]\n",
    "print(pre_result)"
   ]
  },
  {
   "cell_type": "code",
   "execution_count": 9,
   "metadata": {},
   "outputs": [
    {
     "name": "stdout",
     "output_type": "stream",
     "text": [
      "[{'rnum': '1', 'rank': '1', 'rankInten': '0', 'rankOldAndNew': 'OLD', 'movieCd': '20180939', 'movieNm': '남산의 부장들', 'openDt': '2020-01-22', 'salesAmt': '945095180', 'salesShare': '44.0', 'salesInten': '-355976620', 'salesChange': '-27.4', 'salesAcc': '32547144270', 'audiCnt': '118080', 'audiInten': '-93877', 'audiChange': '-44.3', 'audiAcc': '3743582', 'scrnCnt': '1383', 'showCnt': '7262'}, {'rnum': '2', 'rank': '2', 'rankInten': '0', 'rankOldAndNew': 'OLD', 'movieCd': '20192101', 'movieNm': '히트맨', 'openDt': '2020-01-22', 'salesAmt': '602166980', 'salesShare': '28.1', 'salesInten': '-228841510', 'salesChange': '-27.5', 'salesAcc': '15390499240', 'audiCnt': '74508', 'audiInten': '-62668', 'audiChange': '-45.7', 'audiAcc': '1789019', 'scrnCnt': '1027', 'showCnt': '4745'}, {'rnum': '3', 'rank': '3', 'rankInten': '0', 'rankOldAndNew': 'OLD', 'movieCd': '20188421', 'movieNm': '미스터 주: 사라진 VIP', 'openDt': '2020-01-22', 'salesAmt': '92604980', 'salesShare': '4.3', 'salesInten': '-56547680', 'salesChange': '-37.9', 'salesAcc': '4580917060', 'audiCnt': '12298', 'audiInten': '-12283', 'audiChange': '-50', 'audiAcc': '543714', 'scrnCnt': '596', 'showCnt': '1570'}, {'rnum': '4', 'rank': '4', 'rankInten': '0', 'rankOldAndNew': 'OLD', 'movieCd': '20192300', 'movieNm': '스파이 지니어스 ', 'openDt': '2020-01-22', 'salesAmt': '88064900', 'salesShare': '4.1', 'salesInten': '-37017120', 'salesChange': '-29.6', 'salesAcc': '3075484300', 'audiCnt': '11730', 'audiInten': '-8596', 'audiChange': '-42.3', 'audiAcc': '374662', 'scrnCnt': '574', 'showCnt': '1169'}, {'rnum': '5', 'rank': '5', 'rankInten': '0', 'rankOldAndNew': 'OLD', 'movieCd': '20100312', 'movieNm': '인셉션', 'openDt': '2010-07-21', 'salesAmt': '67568700', 'salesShare': '3.1', 'salesInten': '-21178300', 'salesChange': '-23.9', 'salesAcc': '43645889200', 'audiCnt': '8346', 'audiInten': '-6634', 'audiChange': '-44.3', 'audiAcc': '5859100', 'scrnCnt': '204', 'showCnt': '605'}, {'rnum': '6', 'rank': '6', 'rankInten': '0', 'rankOldAndNew': 'OLD', 'movieCd': '20183002', 'movieNm': '해치지않아', 'openDt': '2020-01-15', 'salesAmt': '47241640', 'salesShare': '2.2', 'salesInten': '-34285520', 'salesChange': '-42.1', 'salesAcc': '10043037830', 'audiCnt': '6106', 'audiInten': '-7222', 'audiChange': '-54.2', 'audiAcc': '1195437', 'scrnCnt': '471', 'showCnt': '895'}, {'rnum': '7', 'rank': '7', 'rankInten': '0', 'rankOldAndNew': 'OLD', 'movieCd': '20198676', 'movieNm': '타오르는 여인의 초상', 'openDt': '2020-01-16', 'salesAmt': '35329360', 'salesShare': '1.6', 'salesInten': '-7492020', 'salesChange': '-17.5', 'salesAcc': '791441040', 'audiCnt': '4480', 'audiInten': '-2579', 'audiChange': '-36.5', 'audiAcc': '95398', 'scrnCnt': '142', 'showCnt': '275'}, {'rnum': '8', 'rank': '8', 'rankInten': '13', 'rankOldAndNew': 'OLD', 'movieCd': '20193321', 'movieNm': '정직한 후보', 'openDt': '2020-02-12', 'salesAmt': '29833000', 'salesShare': '1.4', 'salesInten': '25136000', 'salesChange': '535.2', 'salesAcc': '72029000', 'audiCnt': '3943', 'audiInten': '3420', 'audiChange': '653.9', 'audiAcc': '10143', 'scrnCnt': '21', 'showCnt': '22'}, {'rnum': '9', 'rank': '9', 'rankInten': '0', 'rankOldAndNew': 'OLD', 'movieCd': '20196670', 'movieNm': '나쁜 녀석들: 포에버', 'openDt': '2020-01-15', 'salesAmt': '18913800', 'salesShare': '0.9', 'salesInten': '-8837500', 'salesChange': '-31.8', 'salesAcc': '4763880300', 'audiCnt': '2765', 'audiInten': '-1533', 'audiChange': '-35.7', 'audiAcc': '531929', 'scrnCnt': '204', 'showCnt': '297'}, {'rnum': '10', 'rank': '10', 'rankInten': '0', 'rankOldAndNew': 'NEW', 'movieCd': '20193836', 'movieNm': '핑크퐁 시네마 콘서트 : 우주대탐험', 'openDt': '2020-01-30', 'salesAmt': '20010500', 'salesShare': '0.9', 'salesInten': '20010500', 'salesChange': '100', 'salesAcc': '36416500', 'audiCnt': '2693', 'audiInten': '2693', 'audiChange': '100', 'audiAcc': '5235', 'scrnCnt': '176', 'showCnt': '341'}]\n"
     ]
    }
   ],
   "source": [
    "pre_result1 = pre_result[\"dailyBoxOfficeList\"]\n",
    "print(pre_result1)"
   ]
  },
  {
   "cell_type": "code",
   "execution_count": 11,
   "metadata": {},
   "outputs": [
    {
     "name": "stdout",
     "output_type": "stream",
     "text": [
      "[{}, {'rnum': '1', 'rank': '1', 'rankInten': '0', 'rankOldAndNew': 'OLD', 'movieCd': '20180939', 'movieNm': '남산의 부장들', 'openDt': '2020-01-22', 'salesAmt': '945095180', 'salesShare': '44.0', 'salesInten': '-355976620', 'salesChange': '-27.4', 'salesAcc': '32547144270', 'audiCnt': '118080', 'audiInten': '-93877', 'audiChange': '-44.3', 'audiAcc': '3743582', 'scrnCnt': '1383', 'showCnt': '7262', 'targetDt': 20200130}, {'rnum': '2', 'rank': '2', 'rankInten': '0', 'rankOldAndNew': 'OLD', 'movieCd': '20192101', 'movieNm': '히트맨', 'openDt': '2020-01-22', 'salesAmt': '602166980', 'salesShare': '28.1', 'salesInten': '-228841510', 'salesChange': '-27.5', 'salesAcc': '15390499240', 'audiCnt': '74508', 'audiInten': '-62668', 'audiChange': '-45.7', 'audiAcc': '1789019', 'scrnCnt': '1027', 'showCnt': '4745', 'targetDt': 20200130}, {'rnum': '3', 'rank': '3', 'rankInten': '0', 'rankOldAndNew': 'OLD', 'movieCd': '20188421', 'movieNm': '미스터 주: 사라진 VIP', 'openDt': '2020-01-22', 'salesAmt': '92604980', 'salesShare': '4.3', 'salesInten': '-56547680', 'salesChange': '-37.9', 'salesAcc': '4580917060', 'audiCnt': '12298', 'audiInten': '-12283', 'audiChange': '-50', 'audiAcc': '543714', 'scrnCnt': '596', 'showCnt': '1570', 'targetDt': 20200130}, {'rnum': '4', 'rank': '4', 'rankInten': '0', 'rankOldAndNew': 'OLD', 'movieCd': '20192300', 'movieNm': '스파이 지니어스 ', 'openDt': '2020-01-22', 'salesAmt': '88064900', 'salesShare': '4.1', 'salesInten': '-37017120', 'salesChange': '-29.6', 'salesAcc': '3075484300', 'audiCnt': '11730', 'audiInten': '-8596', 'audiChange': '-42.3', 'audiAcc': '374662', 'scrnCnt': '574', 'showCnt': '1169', 'targetDt': 20200130}, {'rnum': '5', 'rank': '5', 'rankInten': '0', 'rankOldAndNew': 'OLD', 'movieCd': '20100312', 'movieNm': '인셉션', 'openDt': '2010-07-21', 'salesAmt': '67568700', 'salesShare': '3.1', 'salesInten': '-21178300', 'salesChange': '-23.9', 'salesAcc': '43645889200', 'audiCnt': '8346', 'audiInten': '-6634', 'audiChange': '-44.3', 'audiAcc': '5859100', 'scrnCnt': '204', 'showCnt': '605', 'targetDt': 20200130}, {'rnum': '6', 'rank': '6', 'rankInten': '0', 'rankOldAndNew': 'OLD', 'movieCd': '20183002', 'movieNm': '해치지않아', 'openDt': '2020-01-15', 'salesAmt': '47241640', 'salesShare': '2.2', 'salesInten': '-34285520', 'salesChange': '-42.1', 'salesAcc': '10043037830', 'audiCnt': '6106', 'audiInten': '-7222', 'audiChange': '-54.2', 'audiAcc': '1195437', 'scrnCnt': '471', 'showCnt': '895', 'targetDt': 20200130}, {'rnum': '7', 'rank': '7', 'rankInten': '0', 'rankOldAndNew': 'OLD', 'movieCd': '20198676', 'movieNm': '타오르는 여인의 초상', 'openDt': '2020-01-16', 'salesAmt': '35329360', 'salesShare': '1.6', 'salesInten': '-7492020', 'salesChange': '-17.5', 'salesAcc': '791441040', 'audiCnt': '4480', 'audiInten': '-2579', 'audiChange': '-36.5', 'audiAcc': '95398', 'scrnCnt': '142', 'showCnt': '275', 'targetDt': 20200130}, {'rnum': '8', 'rank': '8', 'rankInten': '13', 'rankOldAndNew': 'OLD', 'movieCd': '20193321', 'movieNm': '정직한 후보', 'openDt': '2020-02-12', 'salesAmt': '29833000', 'salesShare': '1.4', 'salesInten': '25136000', 'salesChange': '535.2', 'salesAcc': '72029000', 'audiCnt': '3943', 'audiInten': '3420', 'audiChange': '653.9', 'audiAcc': '10143', 'scrnCnt': '21', 'showCnt': '22', 'targetDt': 20200130}, {'rnum': '9', 'rank': '9', 'rankInten': '0', 'rankOldAndNew': 'OLD', 'movieCd': '20196670', 'movieNm': '나쁜 녀석들: 포에버', 'openDt': '2020-01-15', 'salesAmt': '18913800', 'salesShare': '0.9', 'salesInten': '-8837500', 'salesChange': '-31.8', 'salesAcc': '4763880300', 'audiCnt': '2765', 'audiInten': '-1533', 'audiChange': '-35.7', 'audiAcc': '531929', 'scrnCnt': '204', 'showCnt': '297', 'targetDt': 20200130}, {'rnum': '10', 'rank': '10', 'rankInten': '0', 'rankOldAndNew': 'NEW', 'movieCd': '20193836', 'movieNm': '핑크퐁 시네마 콘서트 : 우주대탐험', 'openDt': '2020-01-30', 'salesAmt': '20010500', 'salesShare': '0.9', 'salesInten': '20010500', 'salesChange': '100', 'salesAcc': '36416500', 'audiCnt': '2693', 'audiInten': '2693', 'audiChange': '100', 'audiAcc': '5235', 'scrnCnt': '176', 'showCnt': '341', 'targetDt': 20200130}]\n"
     ]
    }
   ],
   "source": [
    "cine = [{}]\n",
    "# 날짜, 영화이름, 누적관객수\n",
    "for i in range(0, len(pre_result1)):\n",
    "    pre_result1[i]['targetDt']=movieDate\n",
    "    cine.append(pre_result1[i])\n",
    "print(cine)"
   ]
  },
  {
   "cell_type": "code",
   "execution_count": 14,
   "metadata": {},
   "outputs": [
    {
     "name": "stdout",
     "output_type": "stream",
     "text": [
      "20200127\n"
     ]
    }
   ],
   "source": [
    "# 반복 함수 마지막에 날짜를 줄이는 함수를 사용한다.\n",
    "# str > date\n",
    "datetime_obj = datetime.datetime.strptime(str(movieDate), \"%Y%m%d\")\n",
    "# 1주일씩  시간을 줄여간다.\n",
    "datetime_obj_tmp = datetime_obj - datetime.timedelta(days=1)\n",
    "# datetime_obj_tmp = datetime_obj - datetime.timedelta(weeks=1)\n",
    "\n",
    "# date > str\n",
    "day = datetime_obj_tmp.strftime(\"%Y-%m-%d\").split('-')\n",
    "movieDate = day[0] + day[1] + day[2]\n",
    "# time.sleep(1)\n",
    "print(movieDate)\n"
   ]
  },
  {
   "cell_type": "code",
   "execution_count": 15,
   "metadata": {},
   "outputs": [],
   "source": [
    "dataframe = pd.DataFrame(cine)\n",
    "# 첫행이 비어있음.\n",
    "dataframe = dataframe[1:]\n",
    "# print(dataframe.head())\n",
    "dataframe.to_csv(\"cine.csv\")"
   ]
  },
  {
   "cell_type": "code",
   "execution_count": null,
   "metadata": {},
   "outputs": [],
   "source": []
  },
  {
   "cell_type": "code",
   "execution_count": 18,
   "metadata": {},
   "outputs": [
    {
     "name": "stdout",
     "output_type": "stream",
     "text": [
      "   rnum rank rankInten rankOldAndNew   movieCd              movieNm  \\\n",
      "1     1    1         0           OLD  20180939              남산의 부장들   \n",
      "2     2    2         0           OLD  20192101                  히트맨   \n",
      "3     3    3         0           OLD  20188421       미스터 주: 사라진 VIP   \n",
      "4     4    4         0           OLD  20192300            스파이 지니어스    \n",
      "5     5    5         0           OLD  20100312                  인셉션   \n",
      "6     6    6         0           OLD  20183002                해치지않아   \n",
      "7     7    7         0           OLD  20198676          타오르는 여인의 초상   \n",
      "8     8    8        13           OLD  20193321               정직한 후보   \n",
      "9     9    9         0           OLD  20196670          나쁜 녀석들: 포에버   \n",
      "10   10   10         0           NEW  20193836  핑크퐁 시네마 콘서트 : 우주대탐험   \n",
      "\n",
      "        openDt   salesAmt salesShare  salesInten salesChange     salesAcc  \\\n",
      "1   2020-01-22  945095180       44.0  -355976620       -27.4  32547144270   \n",
      "2   2020-01-22  602166980       28.1  -228841510       -27.5  15390499240   \n",
      "3   2020-01-22   92604980        4.3   -56547680       -37.9   4580917060   \n",
      "4   2020-01-22   88064900        4.1   -37017120       -29.6   3075484300   \n",
      "5   2010-07-21   67568700        3.1   -21178300       -23.9  43645889200   \n",
      "6   2020-01-15   47241640        2.2   -34285520       -42.1  10043037830   \n",
      "7   2020-01-16   35329360        1.6    -7492020       -17.5    791441040   \n",
      "8   2020-02-12   29833000        1.4    25136000       535.2     72029000   \n",
      "9   2020-01-15   18913800        0.9    -8837500       -31.8   4763880300   \n",
      "10  2020-01-30   20010500        0.9    20010500         100     36416500   \n",
      "\n",
      "   audiCnt audiInten audiChange  audiAcc scrnCnt showCnt    targetDt  \n",
      "1   118080    -93877      -44.3  3743582    1383    7262  20200130.0  \n",
      "2    74508    -62668      -45.7  1789019    1027    4745  20200130.0  \n",
      "3    12298    -12283        -50   543714     596    1570  20200130.0  \n",
      "4    11730     -8596      -42.3   374662     574    1169  20200130.0  \n",
      "5     8346     -6634      -44.3  5859100     204     605  20200130.0  \n",
      "6     6106     -7222      -54.2  1195437     471     895  20200130.0  \n",
      "7     4480     -2579      -36.5    95398     142     275  20200130.0  \n",
      "8     3943      3420      653.9    10143      21      22  20200130.0  \n",
      "9     2765     -1533      -35.7   531929     204     297  20200130.0  \n",
      "10    2693      2693        100     5235     176     341  20200130.0  \n"
     ]
    }
   ],
   "source": [
    "print(dataframe)"
   ]
  },
  {
   "cell_type": "code",
   "execution_count": null,
   "metadata": {},
   "outputs": [],
   "source": []
  },
  {
   "cell_type": "code",
   "execution_count": null,
   "metadata": {},
   "outputs": [],
   "source": []
  },
  {
   "cell_type": "code",
   "execution_count": 32,
   "metadata": {},
   "outputs": [],
   "source": [
    "# 날짜 하루 마이너스\n",
    "def day_minus(Date):\n",
    "    datetime_obj = datetime.datetime.strptime(str(Date), \"%Y%m%d\")\n",
    "    # 1주일씩  시간을 줄여간다.\n",
    "    datetime_obj_tmp = datetime_obj - datetime.timedelta(days=1)\n",
    "    # datetime_obj_tmp = datetime_obj - datetime.timedelta(weeks=1)\n",
    "\n",
    "    # date > str\n",
    "    day = datetime_obj_tmp.strftime(\"%Y-%m-%d\").split('-')\n",
    "    new_Date = day[0] + day[1] + day[2]\n",
    "    # time.sleep(1)\n",
    "    print(new_Date)\n",
    "    return new_Date\n",
    "\n"
   ]
  },
  {
   "cell_type": "code",
   "execution_count": 44,
   "metadata": {},
   "outputs": [
    {
     "name": "stdout",
     "output_type": "stream",
     "text": [
      "url_in\n",
      "20200129\n",
      "url_out\n",
      "url_in\n",
      "20200128\n",
      "url_out\n",
      "url_in\n",
      "20200127\n",
      "url_out\n",
      "url_in\n",
      "20200126\n",
      "url_out\n",
      "url_in\n",
      "20200125\n",
      "url_out\n",
      "url_in\n",
      "20200124\n",
      "url_out\n",
      "url_in\n",
      "20200123\n",
      "url_out\n",
      "url_in\n",
      "20200122\n",
      "url_out\n",
      "url_in\n",
      "20200121\n",
      "url_out\n",
      "url_in\n",
      "20200120\n",
      "url_out\n",
      "url_in\n",
      "20200119\n",
      "url_out\n",
      "url_in\n",
      "20200118\n",
      "url_out\n",
      "url_in\n",
      "20200117\n",
      "url_out\n",
      "url_in\n",
      "20200116\n",
      "url_out\n",
      "url_in\n",
      "20200115\n",
      "url_out\n",
      "url_in\n",
      "20200114\n",
      "url_out\n",
      "url_in\n",
      "20200113\n",
      "url_out\n",
      "url_in\n",
      "20200112\n",
      "url_out\n",
      "url_in\n",
      "20200111\n",
      "url_out\n",
      "url_in\n",
      "20200110\n",
      "url_out\n",
      "url_in\n",
      "20200109\n",
      "url_out\n",
      "url_in\n",
      "20200108\n",
      "url_out\n",
      "url_in\n",
      "20200107\n",
      "url_out\n",
      "url_in\n",
      "20200106\n",
      "url_out\n",
      "url_in\n",
      "20200105\n",
      "url_out\n",
      "url_in\n",
      "20200104\n",
      "url_out\n",
      "url_in\n",
      "20200103\n",
      "url_out\n",
      "url_in\n",
      "20200102\n",
      "url_out\n",
      "url_in\n",
      "20200101\n",
      "url_out\n",
      "url_in\n",
      "20191231\n",
      "url_out\n"
     ]
    }
   ],
   "source": [
    "# 시작 날짜\n",
    "movieDate = 20200130\n",
    "cine_df = pd.DataFrame()\n",
    "for i in range(0,30):\n",
    "    url = f\"http://www.kobis.or.kr/kobisopenapi/webservice/rest/boxoffice/searchDailyBoxOfficeList.json?key=66e652e1d2656b42f10d93c91e0295e4&targetDt={movieDate}\"\n",
    "    print(\"url_in\")\n",
    "    movieDate = day_minus(movieDate)\n",
    "#     movieDate = movieDate - 1\n",
    "    \n",
    "    request = ul.Request(url)\n",
    "#     print(request)\n",
    "    response =ul.urlopen(request)\n",
    "#     print(response)\n",
    "    rescode = response.getcode()\n",
    "#     print(rescode)\n",
    "    if(rescode == 200):\n",
    "        responseDate = response.read()\n",
    "        \n",
    "    result = json.loads(responseDate)\n",
    "    pre_result = result[\"boxOfficeResult\"]\n",
    "    pre_result1 = pre_result[\"dailyBoxOfficeList\"]\n",
    "    cine = list() # [ {}, {}, {}, ... ]\n",
    "    for j in range(0, len(pre_result1)):\n",
    "        pre_result1[j]['targetDt']=movieDate\n",
    "        cine.append(pre_result1[j])\n",
    "\n",
    "    dataframe = pd.DataFrame(cine)\n",
    "    if i == 0:\n",
    "        cine_df = dataframe\n",
    "    else:\n",
    "        cine_df = pd.concat([cine_df, dataframe], join='inner', ignore_index=True)\n",
    "    print(\"url_out\")\n",
    "#     print(cine_df)\n",
    "\n"
   ]
  },
  {
   "cell_type": "code",
   "execution_count": 51,
   "metadata": {},
   "outputs": [
    {
     "name": "stdout",
     "output_type": "stream",
     "text": [
      "(300, 19)\n",
      "rnum                       2\n",
      "rank                       2\n",
      "rankInten                  0\n",
      "rankOldAndNew            OLD\n",
      "movieCd             20192101\n",
      "movieNm                  히트맨\n",
      "openDt            2020-01-22\n",
      "salesAmt           602166980\n",
      "salesShare              28.1\n",
      "salesInten        -228841510\n",
      "salesChange            -27.5\n",
      "salesAcc         15390499240\n",
      "audiCnt                74508\n",
      "audiInten             -62668\n",
      "audiChange             -45.7\n",
      "audiAcc              1789019\n",
      "scrnCnt                 1027\n",
      "showCnt                 4745\n",
      "targetDt            20200129\n",
      "Name: 1, dtype: object\n"
     ]
    }
   ],
   "source": [
    "print(cine_df.shape)\n",
    "print(cine_df.loc[1,])"
   ]
  },
  {
   "cell_type": "code",
   "execution_count": 61,
   "metadata": {},
   "outputs": [],
   "source": [
    "import seaborn as sns\n",
    "%matplotlib inline\n",
    "import matplotlib.pyplot as plt\n",
    "from matplotlib import font_manager, rc # 한글 폰트 적용\n",
    "# font_name = font_manager.FontProperties\\\n",
    "#     (fname='C:/Windows/Fonts/gulim.ttc').get_name() # 폰트읽기\n",
    "# rc('font', family=font_name) # 폰트적용\n",
    "plt.rcParams['figure.figsize']= (25, 4)"
   ]
  },
  {
   "cell_type": "code",
   "execution_count": 65,
   "metadata": {},
   "outputs": [
    {
     "data": {
      "text/plain": [
       "Text(0, 0.5, 'days')"
      ]
     },
     "execution_count": 65,
     "metadata": {},
     "output_type": "execute_result"
    },
    {
     "data": {
      "image/png": "[encoded data removed]",
      "text/plain": [
       "<Figure size 1800x288 with 1 Axes>"
      ]
     },
     "metadata": {
      "needs_background": "light"
     },
     "output_type": "display_data"
    }
   ],
   "source": [
    "# 얼마나 오래 상영했는가\n",
    "ax = plt.subplots() \n",
    "ax = sns.countplot('movieNm', data=cine_df) \n",
    "ax.set_title('movie show date') \n",
    "ax.set_xlabel('movie name') \n",
    "ax.set_ylabel('days')"
   ]
  },
  {
   "cell_type": "code",
   "execution_count": null,
   "metadata": {},
   "outputs": [],
   "source": []
  },
  {
   "cell_type": "code",
   "execution_count": null,
   "metadata": {},
   "outputs": [],
   "source": []
  },
  {
   "cell_type": "code",
   "execution_count": null,
   "metadata": {},
   "outputs": [],
   "source": []
  },
  {
   "cell_type": "code",
   "execution_count": null,
   "metadata": {},
   "outputs": [],
   "source": []
  },
  {
   "cell_type": "code",
   "execution_count": null,
   "metadata": {},
   "outputs": [],
   "source": []
  }
 ],
 "metadata": {
  "kernelspec": {
   "display_name": "Python 3",
   "language": "python",
   "name": "python3"
  },
  "language_info": {
   "codemirror_mode": {
    "name": "ipython",
    "version": 3
   },
   "file_extension": ".py",
   "mimetype": "text/x-python",
   "name": "python",
   "nbconvert_exporter": "python",
   "pygments_lexer": "ipython3",
   "version": "3.7.4"
  }
 },
 "nbformat": 4,
 "nbformat_minor": 4
}
