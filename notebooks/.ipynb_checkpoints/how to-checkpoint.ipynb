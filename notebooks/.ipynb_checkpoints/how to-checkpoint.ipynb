{
 "cells": [
  {
   "cell_type": "markdown",
   "metadata": {},
   "source": [
    "## 음\n",
    "\n",
    "- Docker run -> 부팅 시작 -> docker commit 안하면 완전히 저장되지 않는다.  \n",
    "    Docker commit은 해주어야 한다.\n",
    "- docker commit eda ihwan1236/eda"
   ]
  },
  {
   "cell_type": "markdown",
   "metadata": {},
   "source": [
    "===================================  \n",
    "- docker run --rm --name eda -itd -u vscode -p 8888-8889:8888-8889 -p 6006-6015:6006-6015 -e JUPYTER_RUN=yes -v /C/Users/user/PNU_201912/eda:/home/vscode/notebooks/eda mrsono0/base_project:eda\n",
    "<hr/>  \n",
    "- docker run --rm --name eda -itd -u vscode -p 8888-8889:8888-8889 -p 6006-6015:6006-6015 -e JUPYTER_RUN=yes mrsono0/base_project:eda\n",
    "<hr/>  \n",
    "- **my eda**\n",
    "- docker run --rm --name eda -itd -u vscode -p 8888-8889:8888-8889 -p 6006-6015:6006-6015 -e JUPYTER_RUN=yes ihwan1236/eda\n",
    "<hr/>  \n",
    "- --rm => stop시 컨테이너 삭제\n",
    "- -ita => 콘솔 사용을 위함\n",
    "- -u vscode => 내부의 vscode를 통해서 \n",
    "- -p 8888 ~ 6015 => 사용하는 포트 ( 다른 용도로 쓸 경우만 변경 )"
   ]
  },
  {
   "cell_type": "markdown",
   "metadata": {},
   "source": [
    "===================================  \n",
    "- docker logs --tail 30 eda => doeker 로그 확인\n",
    "- 맨 아랫줄의  \n",
    "\n",
    "    To access the notebook, open this file in a browser:\n",
    "        file:///home/vscode/.local/share/jupyter/runtime/nbserver-13-open.html\n",
    "    Or copy and paste one of these URLs:\n",
    "        http://bf88df83422a:8888/?token=c9c953242537fb16c6310abaf37db33adc3a89399e55920e\n",
    "     or http://127.0.0.1:8888/?token=c9c953242537fb16c6310abaf37db33adc3a89399e55920e\n",
    "\n",
    "- token=c9c953242537fb16c6310abaf37db33adc3a89399e55920e 여기 부분을 사용한다.\n",
    "- 192.168.99.100:8888 들어가서 token 부분을 입력해주면 된다.\n"
   ]
  },
  {
   "cell_type": "markdown",
   "metadata": {},
   "source": [
    "# 리눅스 명령어\n",
    "- ls -al => 숨김파일까지 확인\n",
    "- cd ~ => 홈 디렉토리로 이동\n",
    "- pwd => 현재 디렉토리 확인\n",
    "- sudo -i => root 계정으로\n",
    "- chown -R vscode:vscode ./notebooks => 해당 파일의 계정을 바꾼다.( 권한이 막혀있을 때, 계정을 바꿔준다  \n",
    "    notebooks가 있는 폴더에서 실행해야 한다.\n",
    "- clear => 창 비우기"
   ]
  },
  {
   "cell_type": "markdown",
   "metadata": {},
   "source": [
    "================================================\n",
    "- shift + 우클릭 > powershell > jupyter lab => 해당 폴더 기점으로 쥬피터랩 오픈 ( git bash로도 가능!)"
   ]
  },
  {
   "cell_type": "markdown",
   "metadata": {},
   "source": [
    "================================================\n",
    "- docker rm [ container name ] => 컨테이너 삭제\n",
    "- docker rmi [ Image ID ] => 이미지 삭제 => commit 전에 같은 이름이 있으면  None이 생긴다\n",
    "- docker push [ Image name ] => 이미지 푸쉬 / hub에 올라간다. (git과 동일)\n",
    "   "
   ]
  },
  {
   "cell_type": "markdown",
   "metadata": {},
   "source": [
    "## window <> docker 파일 교환\n",
    "- docker cp ./test.py eda:/home/vscode/notebooks/   \n",
    "=> 현재 디렉토리의 test.py를 eda 컨테이너의 이어진 경로에 복사\n",
    "- docker cp eda:/home/vscode/notebooks/test.py ./  \n",
    "=> eda의 test.py를 현재 경로에 복사 ( 폴더지정도 가능\n",
    ")"
   ]
  },
  {
   "cell_type": "code",
   "execution_count": null,
   "metadata": {},
   "outputs": [],
   "source": []
  },
  {
   "cell_type": "code",
   "execution_count": null,
   "metadata": {},
   "outputs": [],
   "source": []
  },
  {
   "cell_type": "markdown",
   "metadata": {},
   "source": [
    "================================================\n",
    "- **파이썬 경로 확인**\n",
    "- mac) which python\n",
    "- win) where python"
   ]
  },
  {
   "cell_type": "markdown",
   "metadata": {},
   "source": [
    "## 기타 리눅스 명령어\n",
    "- mkdir data => 폴더 생성\n",
    "- mv data.zip ./data => 파일 이동\n",
    "- cd data/ => 디렉토리 이동\n",
    "- unzip data.zip => 압축파일 unzip"
   ]
  },
  {
   "cell_type": "code",
   "execution_count": null,
   "metadata": {},
   "outputs": [],
   "source": []
  },
  {
   "cell_type": "markdown",
   "metadata": {},
   "source": [
    "## 판다스 10분 완성\n",
    "\n",
    "https://dataitgirls2.github.io/10minutes2pandas/\n",
    "\n",
    "\n"
   ]
  },
  {
   "cell_type": "code",
   "execution_count": null,
   "metadata": {},
   "outputs": [],
   "source": []
  },
  {
   "cell_type": "code",
   "execution_count": null,
   "metadata": {},
   "outputs": [],
   "source": [
    "import matplotlib.pyplot as plt\n",
    "%matplotlib inline\n",
    "# 한글처리\n",
    "import platform\n",
    "from matplotlib import font_manager, rc\n",
    "\n",
    "# 한글 처리\n",
    "plt.rcParams['axes.unicode_minus'] = False\n",
    "if platform.system() == \"Darwin\": # 맥\n",
    "    rc('font', family='AppleGothic')\n",
    "elif platform.system() == \"Linux\": # 리눅스\n",
    "    rc('font', family='NanumGothic')\n",
    "elif platform.system() == \"Windows\": # 윈도우\n",
    "#     fontName = font_manager.FontProperties( fname=fontPath).get_name()\n",
    "    rc('font', family='NanumGothic')\n",
    "else:\n",
    "    print('알 수 없는 시스템. 미적용')"
   ]
  },
  {
   "cell_type": "code",
   "execution_count": null,
   "metadata": {},
   "outputs": [],
   "source": []
  },
  {
   "cell_type": "code",
   "execution_count": null,
   "metadata": {},
   "outputs": [],
   "source": []
  },
  {
   "cell_type": "code",
   "execution_count": null,
   "metadata": {},
   "outputs": [],
   "source": []
  }
 ],
 "metadata": {
  "kernelspec": {
   "display_name": "Python 3",
   "language": "python",
   "name": "python3"
  },
  "language_info": {
   "codemirror_mode": {
    "name": "ipython",
    "version": 3
   },
   "file_extension": ".py",
   "mimetype": "text/x-python",
   "name": "python",
   "nbconvert_exporter": "python",
   "pygments_lexer": "ipython3",
   "version": "3.7.4"
  }
 },
 "nbformat": 4,
 "nbformat_minor": 4
}
